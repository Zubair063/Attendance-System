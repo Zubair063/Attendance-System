{
 "cells": [
  {
   "cell_type": "code",
   "execution_count": 1,
   "metadata": {
    "id": "Xeen_D5vvyol"
   },
   "outputs": [],
   "source": [
    "# !pip install opencv-python==4.5.5.62\n",
    "# !pip install -U opencv-python"
   ]
  },
  {
   "cell_type": "code",
   "execution_count": 2,
   "metadata": {
    "id": "Q9hedbWex0H_"
   },
   "outputs": [],
   "source": [
    "import face_recognition\n",
    "import cv2\n",
    "import matplotlib.pyplot as plt\n",
    "import numpy as np\n",
    "import os\n",
    "import openpyxl\n",
    "import datetime\n",
    "\n",
    "\n",
    "# # from IPython.display import display, Javascript, Image\n",
    "# import PIL\n",
    "# import io\n",
    "# import time"
   ]
  },
  {
   "cell_type": "code",
   "execution_count": 3,
   "metadata": {
    "id": "-bS69jR86gbk"
   },
   "outputs": [],
   "source": [
    "path = \"train/\"\n",
    "\n",
    "images = []\n",
    "\n",
    "classnames = []\n",
    "\n",
    "myList = os.listdir(path=path)\n"
   ]
  },
  {
   "cell_type": "code",
   "execution_count": 4,
   "metadata": {
    "colab": {
     "base_uri": "https://localhost:8080/"
    },
    "id": "hdDo6NTv9Dh3",
    "outputId": "8fe5d950-e361-432c-83b7-0405f99fd3a0"
   },
   "outputs": [
    {
     "name": "stdout",
     "output_type": "stream",
     "text": [
      "['Anik', 'Ferdous', 'Harun', 'Masfiq', 'Nibir', 'Niloy', 'Ratul', 'Shafat', 'Shuvo', 'Tanvir', 'Zubair']\n"
     ]
    }
   ],
   "source": [
    "for img in myList:\n",
    "    currentImg = cv2.imread(filename=f\"{path}/{img}\")\n",
    "    images.append(currentImg)\n",
    "    classnames.append(os.path.splitext(img)[0])\n",
    "\n",
    "print(classnames)"
   ]
  },
  {
   "cell_type": "code",
   "execution_count": 5,
   "metadata": {
    "id": "_qqafNZG-FTa"
   },
   "outputs": [],
   "source": [
    "def findEncodings(images):\n",
    "    encodeList = []\n",
    "\n",
    "    for img in images:\n",
    "        img = cv2.cvtColor(src=img, code=cv2.COLOR_BGR2RGB)\n",
    "        encode = face_recognition.face_encodings(face_image=img)[0]\n",
    "        encodeList.append(encode)\n",
    "    return encodeList"
   ]
  },
  {
   "cell_type": "code",
   "execution_count": 6,
   "metadata": {},
   "outputs": [
    {
     "data": {
      "text/plain": [
       "['2023-05-29']"
      ]
     },
     "execution_count": 6,
     "metadata": {},
     "output_type": "execute_result"
    }
   ],
   "source": [
    "xlsx_path = \"attendence.xlsx\"\n",
    "wb = openpyxl.load_workbook(filename=xlsx_path)\n",
    "sheet=wb.active\n",
    "wb.sheetnames"
   ]
  },
  {
   "cell_type": "code",
   "execution_count": 7,
   "metadata": {},
   "outputs": [],
   "source": [
    "def takeAttendance(attendence):\n",
    "    \n",
    "    global index\n",
    "    \n",
    "    xlsx_path = \"attendence.xlsx\"\n",
    "    wb = openpyxl.load_workbook(filename=xlsx_path)\n",
    "    sheet=wb.active\n",
    "    \n",
    "    if str(datetime.datetime.now()).split()[0] in wb.sheetnames:\n",
    "        sheet=wb.get_sheet_by_name(str(datetime.datetime.now()).split()[0])\n",
    "    else:\n",
    "        sheet=wb.create_sheet(title= str(datetime.datetime.now()).split()[0])\n",
    "\n",
    "    index = 1\n",
    "    \n",
    "    for name in attendence:\n",
    "        attend_date, attend_time = str(datetime.datetime.now()).split()\n",
    "        sheet.cell(row=index, column=1, value=name)\n",
    "        sheet.cell(row=index, column=2, value=attend_date)\n",
    "        sheet.cell(row=index, column=3, value=attend_time[:8])\n",
    "        wb.save(filename=xlsx_path)\n",
    "        index += 1"
   ]
  },
  {
   "cell_type": "code",
   "execution_count": 8,
   "metadata": {
    "colab": {
     "base_uri": "https://localhost:8080/",
     "height": 977
    },
    "id": "yNW3UN3QngEC",
    "outputId": "efe7a62b-ff0c-442d-8c07-e88b8ad9595d"
   },
   "outputs": [],
   "source": [
    "# This is a demo of running face recognition on live video from your webcam. It's a little more complicated than the\n",
    "# other example, but it includes some basic performance tweaks to make things run a lot faster:\n",
    "#   1. Process each video frame at 1/4 resolution (though still display it at full resolution)\n",
    "#   2. Only detect faces in every other frame of video.\n",
    "\n",
    "# PLEASE NOTE: This example requires OpenCV (the `cv2` library) to be installed only to read from your webcam.\n",
    "# OpenCV is *not* required to use the face_recognition library. It's only required if you want to run this\n",
    "# specific demo. If you have trouble installing it, try any of the other demos that don't require it instead.\n",
    "\n",
    "from pathlib import Path\n",
    "\n",
    "today_directory=Path('Attendence_img/'+str(datetime.datetime.now()).split()[0])\n",
    "\n",
    "if today_directory.exists:\n",
    "    None\n",
    "else:\n",
    "    os.mkdir(today_directory)\n",
    "# print(str(directory))\n",
    "\n",
    "# Get a reference to webcam #0 (the default one)\n",
    "video_capture = cv2.VideoCapture(0)\n",
    "\n",
    "# Create arrays of known face encodings and their names\n",
    "known_face_encodings = findEncodings(images)\n",
    "known_face_names = classnames\n",
    "\n",
    "# Initialize some variables\n",
    "face_locations = []\n",
    "face_encodings = []\n",
    "face_names = []\n",
    "process_this_frame = True\n",
    "\n",
    "attendence=[]\n",
    "\n",
    "while True:\n",
    "    # Grab a single frame of video\n",
    "    ret, frame = video_capture.read()\n",
    "\n",
    "    # Only process every other frame of video to save time\n",
    "    if process_this_frame:\n",
    "        # Resize frame of video to 1/4 size for faster face recognition processing\n",
    "        small_frame = cv2.resize(frame, (0, 0), fx=0.25, fy=0.25)\n",
    "\n",
    "        # Convert the image from BGR color (which OpenCV uses) to RGB color (which face_recognition uses)\n",
    "        rgb_small_frame = small_frame[:, :, ::-1]\n",
    "        \n",
    "        # Find all the faces and face encodings in the current frame of video\n",
    "        face_locations = face_recognition.face_locations(rgb_small_frame)\n",
    "        face_encodings = face_recognition.face_encodings(rgb_small_frame, face_locations)\n",
    "\n",
    "        face_names = []\n",
    "        for face_encoding in face_encodings:\n",
    "            # See if the face is a match for the known face(s)\n",
    "            matches = face_recognition.compare_faces(known_face_encodings, face_encoding)\n",
    "            name = \"Unknown\"\n",
    "\n",
    "            # Or instead, use the known face with the smallest distance to the new face\n",
    "            face_distances = face_recognition.face_distance(known_face_encodings, face_encoding)\n",
    "            best_match_index = np.argmin(face_distances)\n",
    "            if matches[best_match_index]:\n",
    "                name = known_face_names[best_match_index]\n",
    "\n",
    "            face_names.append(name)\n",
    "            \n",
    "            \n",
    "            \n",
    "            if (name in attendence) or (name ==\"Unknown\"):\n",
    "                None\n",
    "            else: \n",
    "                attendence.append(name)\n",
    "\n",
    "    process_this_frame = not process_this_frame\n",
    "    \n",
    "         \n",
    "    \n",
    "\n",
    "    # Display the results\n",
    "    for (top, right, bottom, left), name in zip(face_locations, face_names):\n",
    "        # Scale back up face locations since the frame we detected in was scaled to 1/4 size\n",
    "        top *= 4\n",
    "        right *= 4\n",
    "        bottom *= 4\n",
    "        left *= 4\n",
    "        \n",
    "        if name ==\"Unknown\":\n",
    "            None\n",
    "        else: \n",
    "            face=frame[top:bottom, left:right]\n",
    "            cv2.imwrite(os.path.join('Attendence_img/'+str(datetime.datetime.now()).split()[0], f'{name}.jpg'), face)\n",
    "\n",
    "        # Draw a box around the face\n",
    "        cv2.rectangle(frame, (left, top), (right, bottom), (0, 0, 255), 2)\n",
    "\n",
    "        # Draw a label with a name below the face\n",
    "        cv2.rectangle(frame, (left, bottom - 35), (right, bottom), (0, 0, 255), cv2.FILLED)\n",
    "        font = cv2.FONT_HERSHEY_DUPLEX\n",
    "        cv2.putText(frame, name, (left + 6, bottom - 6), font, 1.0, (255, 255, 255), 1)\n",
    "        \n",
    "\n",
    "    # Display the resulting image\n",
    "    cv2.imshow('Video', frame)\n",
    "\n",
    "    # Hit 'q' on the keyboard to quit!\n",
    "    if cv2.waitKey(1) & 0xFF == ord('q'):\n",
    "        break\n",
    "\n",
    "takeAttendance(attendence)\n",
    "\n",
    "# Release handle to the webcam\n",
    "video_capture.release()\n",
    "cv2.destroyAllWindows()"
   ]
  },
  {
   "cell_type": "code",
   "execution_count": null,
   "metadata": {},
   "outputs": [],
   "source": []
  }
 ],
 "metadata": {
  "accelerator": "GPU",
  "colab": {
   "provenance": []
  },
  "kernelspec": {
   "display_name": "Python 3 (ipykernel)",
   "language": "python",
   "name": "python3"
  },
  "language_info": {
   "codemirror_mode": {
    "name": "ipython",
    "version": 3
   },
   "file_extension": ".py",
   "mimetype": "text/x-python",
   "name": "python",
   "nbconvert_exporter": "python",
   "pygments_lexer": "ipython3",
   "version": "3.9.12"
  }
 },
 "nbformat": 4,
 "nbformat_minor": 1
}
